{
 "cells": [
  {
   "cell_type": "code",
   "execution_count": 4,
   "metadata": {},
   "outputs": [],
   "source": [
    "import sys\n",
    "basepath = 'd:\\\\Users\\\\serfe\\\\Documents\\\\GitHub\\\\GENIE\\\\Code'\n",
    "sys.path.append(basepath)\n",
    "import numpy as np"
   ]
  },
  {
   "cell_type": "markdown",
   "metadata": {},
   "source": [
    "# 1. install_dependencies.txt"
   ]
  },
  {
   "cell_type": "markdown",
   "metadata": {},
   "source": [
    "# 2. make_initial_files.py"
   ]
  },
  {
   "cell_type": "code",
   "execution_count": 6,
   "metadata": {},
   "outputs": [
    {
     "name": "stdout",
     "output_type": "stream",
     "text": [
      "Loading configuration from 'config.yaml'...\n",
      "Setting up time range...\n",
      "Connecting to IRIS client...\n",
      "Setting up region based on configuration...\n",
      "Extracting station data...\n",
      "Determining base path for saving files...\n",
      "Saving files...\n",
      "All files saved successfully!\n",
      "✔ Script execution: Done\n"
     ]
    }
   ],
   "source": [
    "# Creates region.npz, stations.npz and 1d_velocity_model.npz\n",
    "!python make_initial_files.py\n",
    "region = np.load(basepath + '\\\\' + 'region.npz')\n",
    "stations = np.load(basepath + '\\\\' + 'stations.npz')\n",
    "velocity_model_1d = np.load(basepath + '\\\\' + '1d_velocity_model.npz')"
   ]
  },
  {
   "cell_type": "code",
   "execution_count": 9,
   "metadata": {},
   "outputs": [
    {
     "name": "stdout",
     "output_type": "stream",
     "text": [
      "lat_range\n",
      "[18.8 20.3]\n",
      "lon_range\n",
      "[-156.1 -154.7]\n",
      "depth_range\n",
      "[-40000   5000]\n",
      "deg_pad\n",
      "0.25\n",
      "num_grids\n",
      "5\n",
      "n_spatial_nodes\n",
      "500\n",
      "years\n",
      "[2018 2019 2020 2021 2022 2023]\n",
      "load_initial_files\n",
      "[False]\n",
      "use_pretrained_model\n",
      "['None']\n"
     ]
    }
   ],
   "source": [
    "for key in region:\n",
    "    print(key)\n",
    "    print(region[key])"
   ]
  },
  {
   "cell_type": "code",
   "execution_count": 12,
   "metadata": {},
   "outputs": [
    {
     "name": "stdout",
     "output_type": "stream",
     "text": [
      "locs\n",
      "[[ 1.89793600e+01 -1.55667897e+02  2.51000000e+02]\n",
      " [ 1.91554130e+01 -1.55462112e+02  3.40000000e+01]\n",
      " [ 1.91645180e+01 -1.55749057e+02  1.59200000e+03]\n",
      " [ 1.92375030e+01 -1.55397507e+02  4.01000000e+02]\n",
      " [ 1.92483780e+01 -1.55498982e+02  9.06000000e+02]\n",
      " [ 1.92633000e+01 -1.55869000e+02  5.24000000e+02]\n",
      " [ 1.92812300e+01 -1.55224645e+02  1.76000000e+02]\n",
      " [ 1.92858630e+01 -1.55129087e+02  4.40000000e+01]\n",
      " [ 1.92962530e+01 -1.55307480e+02  7.24000000e+02]\n",
      " [ 1.93333950e+01 -1.55385650e+02  8.36000000e+02]\n",
      " [ 1.93356600e+01 -1.55301105e+02  9.35000000e+02]\n",
      " [ 1.93398250e+01 -1.55874496e+02  3.08000000e+02]\n",
      " [ 1.93536900e+01 -1.55664418e+02  3.02700000e+03]\n",
      " [ 1.93715670e+01 -1.55263462e+02  1.05100000e+03]\n",
      " [ 1.93720670e+01 -1.55457228e+02  1.52400000e+03]\n",
      " [ 1.93735680e+01 -1.55240608e+02  1.04600000e+03]\n",
      " [ 1.93737850e+01 -1.55215500e+02  9.94000000e+02]\n",
      " [ 1.93794470e+01 -1.55169297e+02  9.33000000e+02]\n",
      " [ 1.93840450e+01 -1.55101578e+02  8.26000000e+02]\n",
      " [ 1.93848600e+01 -1.55125430e+02  7.69000000e+02]\n",
      " [ 1.93855100e+01 -1.55251310e+02  1.07900000e+03]\n",
      " [ 1.93865320e+01 -1.55281715e+02  1.10300000e+03]\n",
      " [ 1.93874300e+01 -1.54958440e+02  1.26000000e+02]\n",
      " [ 1.93878610e+01 -1.54958496e+02  1.13000000e+02]\n",
      " [ 1.93900030e+01 -1.55293995e+02  1.11500000e+03]\n",
      " [ 1.93914430e+01 -1.55324317e+02  1.03800000e+03]\n",
      " [ 1.93929600e+01 -1.55109605e+02  8.05000000e+02]\n",
      " [ 1.93953680e+01 -1.55273643e+02  1.14500000e+03]\n",
      " [ 1.93982420e+01 -1.55266032e+02  1.14000000e+03]\n",
      " [ 1.94024380e+01 -1.55075080e+02  7.17000000e+02]\n",
      " [ 1.94027450e+01 -1.55627597e+02  3.67200000e+03]\n",
      " [ 1.94066230e+01 -1.55300005e+02  1.15300000e+03]\n",
      " [ 1.94120330e+01 -1.55280922e+02  1.10300000e+03]\n",
      " [ 1.94120330e+01 -1.55547040e+02  3.21300000e+03]\n",
      " [ 1.94120860e+01 -1.55259872e+02  1.07900000e+03]\n",
      " [ 1.94151000e+01 -1.55238310e+02  1.17700000e+03]\n",
      " [ 1.94176620e+01 -1.55284097e+02  1.11900000e+03]\n",
      " [ 1.94209720e+01 -1.55291162e+02  1.23100000e+03]\n",
      " [ 1.94230370e+01 -1.55260940e+02  1.09700000e+03]\n",
      " [ 1.94247600e+01 -1.55277582e+02  1.08400000e+03]\n",
      " [ 1.94256210e+01 -1.55220093e+02  1.10800000e+03]\n",
      " [ 1.94256280e+01 -1.55219997e+02  1.10800000e+03]\n",
      " [ 1.94270780e+01 -1.55267682e+02  1.08100000e+03]\n",
      " [ 1.94336130e+01 -1.55004449e+02  4.83000000e+02]\n",
      " [ 1.94382100e+01 -1.55269122e+02  1.23300000e+03]\n",
      " [ 1.94503820e+01 -1.55524977e+02  3.37100000e+03]\n",
      " [ 1.94518270e+01 -1.55602737e+02  4.05300000e+03]\n",
      " [ 1.94557280e+01 -1.54918443e+02  2.75000000e+02]\n",
      " [ 1.94601700e+01 -1.55275330e+02  1.29600000e+03]\n",
      " [ 1.94604420e+01 -1.54950189e+02  3.30000000e+02]\n",
      " [ 1.94636480e+01 -1.54933395e+02  2.78000000e+02]\n",
      " [ 1.94665780e+01 -1.55581070e+02  4.03900000e+03]\n",
      " [ 1.94747900e+01 -1.54833690e+02  9.00000000e+00]\n",
      " [ 1.94802890e+01 -1.54888565e+02  2.53200000e+02]\n",
      " [ 1.94823310e+01 -1.54891591e+02  1.86000000e+02]\n",
      " [ 1.94851150e+01 -1.55597133e+02  4.13100000e+03]\n",
      " [ 1.94878410e+01 -1.55917274e+02  3.53000000e+02]\n",
      " [ 1.94931720e+01 -1.55386023e+02  2.06300000e+03]\n",
      " [ 1.94936540e+01 -1.54921402e+02  1.79000000e+02]\n",
      " [ 1.94946000e+01 -1.54914263e+02  1.70830000e+02]\n",
      " [ 1.94950940e+01 -1.54915726e+02  1.34000000e+02]\n",
      " [ 1.94953590e+01 -1.55059479e+02  4.52000000e+02]\n",
      " [ 1.94962830e+01 -1.54849950e+02  4.80000000e+01]\n",
      " [ 1.95043230e+01 -1.55702741e+02  2.53500000e+03]\n",
      " [ 1.95043770e+01 -1.54916550e+02  1.38000000e+02]\n",
      " [ 1.95071100e+01 -1.54820880e+02  1.90000000e+01]\n",
      " [ 1.95170200e+01 -1.54861137e+02  8.00000000e+01]\n",
      " [ 1.95298230e+01 -1.55456467e+02  2.98100000e+03]\n",
      " [ 1.95411780e+01 -1.55644036e+02  2.89400000e+03]\n",
      " [ 1.95855010e+01 -1.54988235e+02  6.90000000e+01]\n",
      " [ 1.96026820e+01 -1.55483002e+02  2.46500000e+03]\n",
      " [ 1.96846600e+01 -1.55835697e+02  2.20400000e+03]\n",
      " [ 1.96985930e+01 -1.55024497e+02  3.70000000e+01]\n",
      " [ 1.97145990e+01 -1.55447528e+02  2.17100000e+03]\n",
      " [ 1.97758850e+01 -1.55456039e+02  3.34800000e+03]\n",
      " [ 1.97900790e+01 -1.55097183e+02  8.30000000e+01]\n",
      " [ 1.98528800e+01 -1.55926498e+02  4.00000000e+00]\n",
      " [ 1.98568730e+01 -1.55657480e+02  1.42900000e+03]\n",
      " [ 1.98741020e+01 -1.55112167e+02  4.70000000e+01]\n",
      " [ 1.98868000e+01 -1.55340000e+02  1.86300000e+03]\n",
      " [ 2.01252000e+01 -1.55777000e+02  1.16600000e+03]]\n",
      "stas\n",
      "['SPDD' 'PPLD' 'HOVE' 'HTCD' 'WOOD' 'KAAD' 'POLD' 'KAED' 'HLPD' 'DESD'\n",
      " 'MITD' 'MONK' 'DAND' 'AHUD' 'AIND' 'DEVL' 'PAUD' 'KNHD' 'JCUZ' 'STCD'\n",
      " 'PUHI' 'OTLD' 'KLPN' 'DDHD' 'SDH' 'CPKD' 'NPOC' 'RIMD' 'KKO' 'KUPD'\n",
      " 'RCOD' 'WRM' 'NPT' 'TRAD' 'BYL' 'NAHU' 'OBL' 'UWE' 'HAT' 'UWB' 'HMLE'\n",
      " 'MENE' 'SBL' 'JOKA' 'HVGC' 'ELEP' 'SWRD' 'KLUD' 'RSDD' 'KIND' 'HBOP'\n",
      " 'WILD' 'ERZ2' 'PHOD' 'WAPM' 'MOKD' 'CACD' 'MLOD' 'FKSS' 'WALE' 'P07'\n",
      " 'HFA' 'ERZ1' 'TOUO' 'MOTT' 'ERZ3' 'ERZ4' 'PLAD' 'ALEP' 'HPP' 'HSSD'\n",
      " 'HUAD' 'NAGD' 'SHEEP' 'HPUD' 'HQM' 'BAKK' 'WAID' 'HGC' 'KKUD' 'KOHD']\n"
     ]
    }
   ],
   "source": [
    "for key in stations:\n",
    "    print(key)\n",
    "    print(stations[key])"
   ]
  },
  {
   "cell_type": "code",
   "execution_count": 13,
   "metadata": {},
   "outputs": [
    {
     "name": "stdout",
     "output_type": "stream",
     "text": [
      "Depths\n",
      "[-40000 -35000 -30000 -25000 -20000 -15000 -10000  -5000      0   5000]\n",
      "Vp\n",
      "[8200 8200 8150 8100 8050 7400 6800 6100 2900 2900]\n",
      "Vs\n",
      "[4700 4700 4650 4600 4600 4200 3800 3400 1800 1800]\n"
     ]
    }
   ],
   "source": [
    "for key in velocity_model_1d:\n",
    "    print(key)\n",
    "    print(velocity_model_1d[key])"
   ]
  },
  {
   "cell_type": "markdown",
   "metadata": {},
   "source": [
    "# 3. assemble_network_data.py"
   ]
  },
  {
   "cell_type": "code",
   "execution_count": null,
   "metadata": {},
   "outputs": [],
   "source": []
  },
  {
   "cell_type": "code",
   "execution_count": null,
   "metadata": {},
   "outputs": [],
   "source": []
  },
  {
   "cell_type": "code",
   "execution_count": null,
   "metadata": {},
   "outputs": [],
   "source": []
  },
  {
   "cell_type": "code",
   "execution_count": null,
   "metadata": {},
   "outputs": [],
   "source": []
  },
  {
   "cell_type": "code",
   "execution_count": null,
   "metadata": {},
   "outputs": [],
   "source": []
  },
  {
   "cell_type": "code",
   "execution_count": null,
   "metadata": {},
   "outputs": [],
   "source": []
  },
  {
   "cell_type": "code",
   "execution_count": null,
   "metadata": {},
   "outputs": [],
   "source": []
  },
  {
   "cell_type": "code",
   "execution_count": null,
   "metadata": {},
   "outputs": [],
   "source": []
  },
  {
   "cell_type": "code",
   "execution_count": null,
   "metadata": {},
   "outputs": [],
   "source": []
  },
  {
   "cell_type": "code",
   "execution_count": null,
   "metadata": {},
   "outputs": [],
   "source": []
  },
  {
   "cell_type": "code",
   "execution_count": null,
   "metadata": {},
   "outputs": [],
   "source": []
  }
 ],
 "metadata": {
  "kernelspec": {
   "display_name": "Geometric",
   "language": "python",
   "name": "python3"
  },
  "language_info": {
   "codemirror_mode": {
    "name": "ipython",
    "version": 3
   },
   "file_extension": ".py",
   "mimetype": "text/x-python",
   "name": "python",
   "nbconvert_exporter": "python",
   "pygments_lexer": "ipython3",
   "version": "3.11.6"
  }
 },
 "nbformat": 4,
 "nbformat_minor": 2
}
